{
 "cells": [
  {
   "cell_type": "markdown",
   "id": "582b0351-1c28-4d68-b176-06d925065b62",
   "metadata": {},
   "source": [
    "# convert cocodaset to VWW"
   ]
  },
  {
   "cell_type": "code",
   "execution_count": null,
   "id": "11387b43-44c7-4cc9-86ca-2ac5d6db7814",
   "metadata": {},
   "outputs": [],
   "source": [
    "python create_coco_vww_tf_record.py --logtostderr --train_image_dir=C:\\Users\\USER\\image_classification\\ML_tf2_object_detection_nu\\image_dataset\\coco-2017\\train\\data --val_image_dir=C:\\Users\\USER\\image_classification\\ML_tf2_object_detection_nu\\image_dataset\\coco-2017\\validation\\data --train_annotations_file=C:\\Users\\USER\\image_classification\\ML_tf2_object_detection_nu\\image_dataset\\coco-2017\\raw\\instances_train2017.json --val_annotations_file=C:\\Users\\USER\\image_classification\\ML_tf2_object_detection_nu\\image_dataset\\coco-2017\\raw\\instances_val2017.json --output_dir=vww"
   ]
  },
  {
   "cell_type": "code",
   "execution_count": null,
   "id": "57271fde-5274-4394-9c50-e0a0d3a4913e",
   "metadata": {},
   "outputs": [],
   "source": [
    "python create_coco_vww_tf_record.py --logtostderr --train_image_dir=C:\\Users\\CYCHEN38\\OpenNuvoton\\ML_tf2_object_detection_nu\\image_dataset\\coco-2017\\train\\data --val_image_dir=C:\\Users\\CYCHEN38\\OpenNuvoton\\ML_tf2_object_detection_nu\\image_dataset\\coco-2017\\validation\\data --train_annotations_file=C:\\Users\\CYCHEN38\\OpenNuvoton\\ML_tf2_object_detection_nu\\image_dataset\\coco-2017\\raw\\instances_train2017.json --val_annotations_file=C:\\Users\\CYCHEN38\\OpenNuvoton\\ML_tf2_object_detection_nu\\image_dataset\\coco-2017\\raw\\instances_val2017.json --object_name mouse --output_dir=dataset\\datasets\\coco_mouse"
   ]
  },
  {
   "cell_type": "markdown",
   "id": "822ed1c4-957f-4d3f-a30f-1cbd0ca9d009",
   "metadata": {},
   "source": [
    "# Train"
   ]
  },
  {
   "cell_type": "code",
   "execution_count": null,
   "id": "f1ab9bca-8d1e-4038-967f-6f99462743c6",
   "metadata": {},
   "outputs": [],
   "source": [
    "python train_vww.py --proj_name vww_person_96_035_v2_rgb --dataset vww_coco --switch_mode 2 --model-prefix mobilenetv2 --learning-rate 0.0001 --alpha 0.35"
   ]
  },
  {
   "cell_type": "code",
   "execution_count": null,
   "id": "6617f2c7-559a-4af2-b75c-f6eaded33c52",
   "metadata": {},
   "outputs": [],
   "source": [
    "python train_vww.py --proj_name test_rgb --dataset vww_coco --switch_mode 1 --model-prefix mobilenetv2 --learning-rate 0.0001 --alpha 0.35"
   ]
  },
  {
   "cell_type": "code",
   "execution_count": null,
   "id": "2a51da9c-97c0-4018-ba7d-f7c2525cb9db",
   "metadata": {},
   "outputs": [],
   "source": [
    "python train_vww.py --proj_name vww_person_96_with_normal_v2 --dataset vww_coco --switch_mode 1 --model-prefix mobilenetv2 --learning-rate 0.00001 --alpha 0.25 --COLOR_MODE grayscale"
   ]
  },
  {
   "cell_type": "code",
   "execution_count": null,
   "id": "cac66ac4-d8a1-46cd-82bc-80d91b5729ab",
   "metadata": {},
   "outputs": [],
   "source": [
    "python train_vww.py --proj_name vww_v3_075_96_partial --dataset vww_coco --switch_mode 1 --model-prefix mobilenetv3 --learning-rate 0.0001 --alpha 0.75"
   ]
  },
  {
   "cell_type": "code",
   "execution_count": null,
   "id": "6806e8e1-488a-4d03-a4f4-79225639caba",
   "metadata": {},
   "outputs": [],
   "source": [
    "python train_vww.py --proj_name vww_v1_025_128_1 --dataset vww_coco --switch_mode 1 --model-prefix mobilenetv1 --learning-rate 0.001 --alpha 0.25"
   ]
  },
  {
   "cell_type": "code",
   "execution_count": null,
   "id": "1bfe7262-39c0-474f-9693-02e6d2f0ed67",
   "metadata": {},
   "outputs": [],
   "source": [
    "python train_vww.py --proj_name test --dataset coco_mouse --switch_mode 0 --model-prefix mobilenetv1 --learning-rate 0.001 --alpha 0.25"
   ]
  }
 ],
 "metadata": {
  "kernelspec": {
   "display_name": "Python 3 (ipykernel)",
   "language": "python",
   "name": "python3"
  },
  "language_info": {
   "codemirror_mode": {
    "name": "ipython",
    "version": 3
   },
   "file_extension": ".py",
   "mimetype": "text/x-python",
   "name": "python",
   "nbconvert_exporter": "python",
   "pygments_lexer": "ipython3",
   "version": "3.8.13"
  }
 },
 "nbformat": 4,
 "nbformat_minor": 5
}
